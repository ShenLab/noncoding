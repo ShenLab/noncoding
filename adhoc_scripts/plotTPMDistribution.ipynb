{
 "cells": [
  {
   "cell_type": "code",
   "execution_count": 1,
   "metadata": {
    "colab": {},
    "colab_type": "code",
    "id": "Ha0x7EPlhXrr"
   },
   "outputs": [],
   "source": [
    "import matplotlib.pyplot as plt\n",
    "import numpy as np\n",
    "import pandas as pd\n",
    "from math import floor"
   ]
  },
  {
   "cell_type": "code",
   "execution_count": 2,
   "metadata": {
    "colab": {},
    "colab_type": "code",
    "id": "z90uhfRujm9e"
   },
   "outputs": [],
   "source": [
    "pos = pd.read_csv('all_rbp_sequences.csv')\n",
    "neg = pd.read_csv('all_neg_seqs.csv')"
   ]
  },
  {
   "cell_type": "code",
   "execution_count": 3,
   "metadata": {
    "colab": {},
    "colab_type": "code",
    "id": "UXPzWT4WjnAT"
   },
   "outputs": [],
   "source": [
    "df_pos = pos[pos['RBP'] == 'K562.RBFOX2']\n",
    "df_neg = neg[neg['RBP'] == 'K562.RBFOX2']"
   ]
  },
  {
   "cell_type": "code",
   "execution_count": 4,
   "metadata": {
    "colab": {},
    "colab_type": "code",
    "id": "FAvXtA0TmEQp"
   },
   "outputs": [],
   "source": [
    "def get_gc(seq):\n",
    "    count = 0\n",
    "    for bp in seq:\n",
    "        if bp == 'C' or bp == 'G':\n",
    "            count += 1\n",
    "    \n",
    "    gc_bin = floor(5*count/len(seq))/5\n",
    "    if gc_bin == 1:\n",
    "        gc_bin == .8\n",
    "    \n",
    "    return gc_bin"
   ]
  },
  {
   "cell_type": "code",
   "execution_count": 5,
   "metadata": {
    "colab": {},
    "colab_type": "code",
    "id": "IWZfo1O-lwIc"
   },
   "outputs": [],
   "source": [
    "gc_pos, gc_neg = [], []\n",
    "len_pos, len_neg = [], []\n",
    "\n",
    "for i in df_pos['sequence']:\n",
    "    gc_pos.append(get_gc(i))\n",
    "    len_pos.append(len(i))\n",
    "    \n",
    "for i in df_neg['sequence']:\n",
    "    gc_neg.append(get_gc(i))\n",
    "    len_neg.append(len(i))"
   ]
  },
  {
   "cell_type": "code",
   "execution_count": 9,
   "metadata": {
    "colab": {
     "base_uri": "https://localhost:8080/",
     "height": 302
    },
    "colab_type": "code",
    "executionInfo": {
     "elapsed": 1397,
     "status": "ok",
     "timestamp": 1557453538813,
     "user": {
      "displayName": "Emily Jin",
      "photoUrl": "",
      "userId": "00213674014052790913"
     },
     "user_tz": 240
    },
    "id": "Qfaz8dHYlwKd",
    "outputId": "de485a63-9292-4854-896c-bb45783091f2"
   },
   "outputs": [
    {
     "data": {
      "image/png": "[encoded data removed]",
      "text/plain": [
       "<Figure size 432x288 with 2 Axes>"
      ]
     },
     "metadata": {
      "needs_background": "light"
     },
     "output_type": "display_data"
    }
   ],
   "source": [
    "fig, axs = plt.subplots(1, 2, sharey=True)\n",
    "fig.suptitle(\"GC Distribution for RBFOX2 Datasets\", fontsize=16)\n",
    "\n",
    "axs[0].hist(gc_pos)\n",
    "axs[1].hist(gc_neg)\n",
    "\n",
    "axs[0].set_title('Positive Set')\n",
    "axs[1].set_title('Negative Set')\n",
    "\n",
    "axs[0].set(xlabel='GC Content', ylabel='Number of Sequences')\n",
    "axs[1].set(xlabel='GC Content')\n",
    "\n",
    "fig.tight_layout()\n",
    "fig.subplots_adjust(top=0.85)\n",
    "\n",
    "#fig.savefig('gc.png')"
   ]
  },
  {
   "cell_type": "code",
   "execution_count": 13,
   "metadata": {
    "colab": {
     "base_uri": "https://localhost:8080/",
     "height": 302
    },
    "colab_type": "code",
    "executionInfo": {
     "elapsed": 1221,
     "status": "ok",
     "timestamp": 1557453542599,
     "user": {
      "displayName": "Emily Jin",
      "photoUrl": "",
      "userId": "00213674014052790913"
     },
     "user_tz": 240
    },
    "id": "emPQuzNAlwOT",
    "outputId": "665363b6-d786-4bdf-be06-702e5a121f06"
   },
   "outputs": [
    {
     "data": {
      "image/png": "[encoded data removed]",
      "text/plain": [
       "<Figure size 432x288 with 2 Axes>"
      ]
     },
     "metadata": {
      "needs_background": "light"
     },
     "output_type": "display_data"
    }
   ],
   "source": [
    "fig, axs = plt.subplots(1, 2, sharey=True)\n",
    "fig.suptitle(\"Length Distribution for RBFOX2 Datasets\", fontsize=16)\n",
    "\n",
    "axs[0].hist(len_pos)\n",
    "axs[1].hist(len_neg)\n",
    "\n",
    "axs[0].set_title('Positive Set')\n",
    "axs[1].set_title('Negative Set')\n",
    "\n",
    "axs[0].set(xlabel='Sequence Length', ylabel='Number of Sequences')\n",
    "axs[1].set(xlabel='Sequence Length')\n",
    "\n",
    "fig.tight_layout()\n",
    "fig.subplots_adjust(top=0.85)"
   ]
  },
  {
   "cell_type": "code",
   "execution_count": null,
   "metadata": {},
   "outputs": [],
   "source": []
  },
  {
   "cell_type": "markdown",
   "metadata": {},
   "source": [
    "### generate all plots "
   ]
  },
  {
   "cell_type": "code",
   "execution_count": null,
   "metadata": {},
   "outputs": [],
   "source": [
    "def gen_plot(RBP, path):\n",
    "    df_pos = pos[pos['RBP'] == RBP]\n",
    "    df_neg = neg[neg['RBP'] == RBP]\n",
    "    \n",
    "    gc_pos, gc_neg = [], []\n",
    "    len_pos, len_neg = [], []\n",
    "\n",
    "    for i in df_pos['sequence']:\n",
    "        gc_pos.append(get_gc(i))\n",
    "        len_pos.append(len(i))\n",
    "\n",
    "    for i in df_neg['sequence']:\n",
    "        gc_neg.append(get_gc(i))\n",
    "        len_neg.append(len(i))\n",
    "        \n",
    "    #plot gc graph    \n",
    "    fig, axs = plt.subplots(1, 2, sharey=True)\n",
    "    title = \"GC Distribution for \" + RBP + \" Datasets\"\n",
    "    fig.suptitle(title, fontsize=16)\n",
    "    axs[0].hist(gc_pos)\n",
    "    axs[1].hist(gc_neg)\n",
    "    axs[0].set_title('Positive Set')\n",
    "    axs[1].set_title('Negative Set')\n",
    "    axs[0].set(xlabel='GC Content', ylabel='Number of Sequences')\n",
    "    axs[1].set(xlabel='GC Content')\n",
    "    fig.tight_layout()\n",
    "    fig.subplots_adjust(top=0.85)\n",
    "    file = path + '/' + RBP + '_gc.png'\n",
    "    fig.savefig(file)\n",
    "    \n",
    "    \n",
    "    #plot len graph\n",
    "    fig, axs = plt.subplots(1, 2, sharey=True)\n",
    "    title = \"Length Distribution for \" + RBP + \" Datasets\"\n",
    "    fig.suptitle(title, fontsize=16)\n",
    "    axs[0].hist(gc_pos)\n",
    "    axs[1].hist(gc_neg)\n",
    "    axs[0].set_title('Positive Set')\n",
    "    axs[1].set_title('Negative Set')\n",
    "    axs[0].set(xlabel='Sequence Length', ylabel='Number of Sequences')\n",
    "    axs[1].set(xlabel='Sequence Length')\n",
    "    fig.tight_layout()\n",
    "    fig.subplots_adjust(top=0.85)\n",
    "    file = path + '/' + RBP + '_len.png'\n",
    "    fig.savefig(file)"
   ]
  },
  {
   "cell_type": "code",
   "execution_count": null,
   "metadata": {},
   "outputs": [],
   "source": [
    "import os\n",
    "\n",
    "path = 'NEGATIVE/plots'\n",
    "if not os.path.exists(path):\n",
    "    os.mkdir(path)\n",
    "    \n",
    "for RBP in set(pos['RBP']):\n",
    "    get_plot(RBP,path)"
   ]
  }
 ],
 "metadata": {
  "accelerator": "TPU",
  "colab": {
   "name": "Graph Plots.ipynb",
   "provenance": [],
   "version": "0.3.2"
  },
  "kernelspec": {
   "display_name": "Python 3",
   "language": "python",
   "name": "python3"
  },
  "language_info": {
   "codemirror_mode": {
    "name": "ipython",
    "version": 3
   },
   "file_extension": ".py",
   "mimetype": "text/x-python",
   "name": "python",
   "nbconvert_exporter": "python",
   "pygments_lexer": "ipython3",
   "version": "3.6.6"
  }
 },
 "nbformat": 4,
 "nbformat_minor": 1
}
