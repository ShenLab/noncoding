{
 "cells": [
  {
   "cell_type": "code",
   "execution_count": 3,
   "metadata": {
    "colab": {
     "base_uri": "https://localhost:8080/",
     "height": 35
    },
    "colab_type": "code",
    "executionInfo": {
     "elapsed": 6529,
     "status": "ok",
     "timestamp": 1555551440208,
     "user": {
      "displayName": "Emily Jin",
      "photoUrl": "",
      "userId": "00213674014052790913"
     },
     "user_tz": 240
    },
    "id": "YYgfNkqmObvW",
    "outputId": "eab0cc3c-42fa-4b39-9149-6e6a3933d58b"
   },
   "outputs": [
    {
     "name": "stderr",
     "output_type": "stream",
     "text": [
      "Using TensorFlow backend.\n"
     ]
    }
   ],
   "source": [
    "import numpy as np\n",
    "from numpy.random import choice\n",
    "import pandas as pd\n",
    "from scipy.io import loadmat\n",
    "from math import floor\n",
    "import random\n",
    "import copy\n",
    "import json"
   ]
  },
  {
   "cell_type": "markdown",
   "metadata": {
    "colab_type": "text",
    "id": "M3D9NnCTNlz0"
   },
   "source": [
    "### genome"
   ]
  },
  {
   "cell_type": "code",
   "execution_count": 0,
   "metadata": {
    "colab": {},
    "colab_type": "code",
    "id": "yDeyhdHHCH9I"
   },
   "outputs": [],
   "source": [
    "!pip install genomepy --upgrade pyyaml"
   ]
  },
  {
   "cell_type": "code",
   "execution_count": 0,
   "metadata": {
    "colab": {
     "base_uri": "https://localhost:8080/",
     "height": 109
    },
    "colab_type": "code",
    "executionInfo": {
     "elapsed": 428470,
     "status": "ok",
     "timestamp": 1555523740063,
     "user": {
      "displayName": "Emily Jin",
      "photoUrl": "",
      "userId": "00213674014052790913"
     },
     "user_tz": 240
    },
    "id": "H2mjlFlvCClJ",
    "outputId": "bfbefec2-d314-482b-948e-11cb84f68d4f"
   },
   "outputs": [
    {
     "name": "stderr",
     "output_type": "stream",
     "text": [
      "downloading from http://hgdownload.soe.ucsc.edu/goldenPath/hg19/bigZips/chromFa.tar.gz...\n",
      "done...\n",
      "name: hg19\n",
      "local name: hg19\n",
      "fasta: /data/genomes/hg19/hg19.fa\n"
     ]
    }
   ],
   "source": [
    "import genomepy\n",
    "\n",
    "#get hg19 reference genome ZERO INDEXED\n",
    "genomepy.install_genome(\"hg19\", \"UCSC\", genome_dir=\"/data/genomes\")\n",
    "g = genomepy.Genome(\"hg19\", genome_dir=\"/data/genomes\")"
   ]
  },
  {
   "cell_type": "code",
   "execution_count": 0,
   "metadata": {
    "colab": {},
    "colab_type": "code",
    "id": "eatHvxZF8uzi"
   },
   "outputs": [],
   "source": [
    "#get dict of chr lens\n",
    "df_chr = pd.read_csv('chr_lengths.csv')\n",
    "chr_len = {}\n",
    "for i in range(24):\n",
    "    chrom = 'chr' + df_chr.iloc[i,0]\n",
    "    chr_len[chrom] = df_chr.iloc[i,1]\n",
    "\n",
    "#get dict of chr probs (based on len)\n",
    "g_len = sum(chr_len.values())\n",
    "chr_prob = {}\n",
    "for key in chr_len.keys():\n",
    "    chr_prob[key] = chr_len[key]/g_len"
   ]
  },
  {
   "cell_type": "code",
   "execution_count": 0,
   "metadata": {
    "colab": {},
    "colab_type": "code",
    "id": "ZZAT7WhsMSXl"
   },
   "outputs": [],
   "source": [
    "#mapping base pairs for switching strand\n",
    "bp = {}\n",
    "bp['A'] = 'T'\n",
    "bp['G'] = 'C'\n",
    "bp['T'] = 'A'\n",
    "bp['C'] = 'G'"
   ]
  },
  {
   "cell_type": "markdown",
   "metadata": {
    "colab_type": "text",
    "id": "pirv8ahqEQi-"
   },
   "source": [
    "### functions"
   ]
  },
  {
   "cell_type": "code",
   "execution_count": 0,
   "metadata": {
    "colab": {},
    "colab_type": "code",
    "id": "fuR19pq5HaYe"
   },
   "outputs": [],
   "source": [
    "#encode sequence into tensor\n",
    "def encode(df):\n",
    "    n = df.shape[0]\n",
    "    m = df['seq'].map(len).max()\n",
    "    a = np.empty((n,m,4))\n",
    "  \n",
    "    d = {'A': np.array([1,0,0,0]),\n",
    "         'C': np.array([0,1,0,0]),\n",
    "         'G': np.array([0,0,1,0]),\n",
    "         'T': np.array([0,0,0,1]), \n",
    "         'N': np.array([0,0,0,0])}\n",
    "\n",
    "    for i in range(n):\n",
    "        seq = df['seq'][i]\n",
    "        extra = m-len(seq)\n",
    "        if extra > 0:\n",
    "            seq += 'N'*extra\n",
    "    \n",
    "        seq_array = list(seq)\n",
    "        for j in range(m):\n",
    "            base = seq_array[j]\n",
    "            a[i][j] = d[base]\n",
    "    \n",
    "    return a"
   ]
  },
  {
   "cell_type": "code",
   "execution_count": 0,
   "metadata": {
    "colab": {},
    "colab_type": "code",
    "id": "0PrWlINBGGJJ"
   },
   "outputs": [],
   "source": [
    "def get_rand_seq(gc,n,seqs):\n",
    "    s = seqs[n][gc][0]\n",
    "    del seqs[n][gc][0]\n",
    "    return s"
   ]
  },
  {
   "cell_type": "code",
   "execution_count": 0,
   "metadata": {
    "colab": {},
    "colab_type": "code",
    "id": "At8Q6KSKKOBm"
   },
   "outputs": [],
   "source": [
    "def get_gc(seq):\n",
    "    count = 0\n",
    "    for bp in seq:\n",
    "        if bp == 'C' or bp == 'G':\n",
    "        count += 1\n",
    "      \n",
    "    gc_bin = floor(5*count/len(seq))/5\n",
    "    if gc_bin == 1:\n",
    "        gc_bin = .8\n",
    "    \n",
    "    return gc_bin"
   ]
  },
  {
   "cell_type": "code",
   "execution_count": 0,
   "metadata": {
    "colab": {},
    "colab_type": "code",
    "id": "lBNnuOGoLgz_"
   },
   "outputs": [],
   "source": [
    "def switch_strand(seq):\n",
    "    out = ''\n",
    "    for s in seq[::-1]: #reverse step\n",
    "        out += bp[s] #match step\n",
    "    return out"
   ]
  },
  {
   "cell_type": "markdown",
   "metadata": {
    "colab_type": "text",
    "id": "ODK1cuy1Ek1_"
   },
   "source": [
    "### generate neg sequences"
   ]
  },
  {
   "cell_type": "code",
   "execution_count": 0,
   "metadata": {
    "colab": {},
    "colab_type": "code",
    "id": "-eChwhkzEuCl"
   },
   "outputs": [],
   "source": [
    "data = pd.read_csv('all_rbp_sequences.csv')"
   ]
  },
  {
   "cell_type": "code",
   "execution_count": 0,
   "metadata": {
    "colab": {},
    "colab_type": "code",
    "id": "LbsMvFK5EuL9"
   },
   "outputs": [],
   "source": [
    "#query a ton of random sequences\n",
    "dirName = 'NEGATIVE/database'\n",
    "if not os.path.exists(dirName):\n",
    "    os.mkdir(dirName)\n",
    "    \n",
    "#get lengths we need\n",
    "max_len = data['sequence'].map(len).max()\n",
    "min_len = data['sequence'].map(len).min()\n",
    "seq_lens = [i for i in range(min_len, max_len+1)]\n",
    "#seq_lens = [i for i in range(102,152)]\n",
    "\n",
    "rand_seqs = {}\n",
    "for seql in seq_lens:\n",
    "    d = {}\n",
    "    for j in np.linspace(0,.8,5): #buckets of 0, .2, .4, .6, .8\n",
    "        d[round(j,1)] = []\n",
    "  \n",
    "    n = 100000\n",
    "    #if seql < 130:\n",
    "    #    n = 350000\n",
    "  \n",
    "    for k in range(n):\n",
    "        #pick random chr\n",
    "        chr_rand = choice(list(chr_prob.keys()),1,list(chr_prob.values()))[0]\n",
    "    \n",
    "        #pick random start pos\n",
    "        rand_start = random.randint(1,chr_len[chr_rand])\n",
    "    \n",
    "        #construct sequence\n",
    "        s = str(g[chr_rand][rand_start:rand_start+seql]).upper()\n",
    "    \n",
    "        if 'N' not in s:      \n",
    "            #pick strand\n",
    "            neg = random.choice([0,1])\n",
    "        if neg:\n",
    "            s = switch_strand(s)\n",
    "      \n",
    "        #add seq to proper gc\n",
    "        gc = get_gc(s)\n",
    "        d[gc].append((s,chr_rand,rand_start,neg))\n",
    "    \n",
    "    rand_seqs[seql] = d\n",
    "    \n",
    "file = dirName + '/' + 'neg100k.txt'\n",
    "with open(file, 'w') as file:\n",
    "    file.write(json.dumps(rand_seqs))"
   ]
  },
  {
   "cell_type": "code",
   "execution_count": null,
   "metadata": {},
   "outputs": [],
   "source": []
  },
  {
   "cell_type": "code",
   "execution_count": 0,
   "metadata": {
    "colab": {},
    "colab_type": "code",
    "id": "2cBDEGU_2Gmd"
   },
   "outputs": [],
   "source": [
    "###ORIGINAL RUN, ONLY USING ONE SET (300K)\n",
    "def get_neg_seqs(RBP):\n",
    "    d_copy = copy.deepcopy(rand_seqs)\n",
    "    neg_seq = []\n",
    "    df = data.loc[data['RBP'] == RBP]\n",
    "    for seq in df['sequence']:\n",
    "        n = str(len(seq))\n",
    "        gc = str(get_gc(seq))\n",
    "        s = get_rand_seq(gc,n,d_copy)\n",
    "        neg_seq.append(s)\n",
    "  \n",
    "    df_out = pd.DataFrame(neg_seq, columns=['sequence', 'chr', 'start', 'neg'])\n",
    "    name = 'NEGATIVE/' + RBP + '_neg.csv'\n",
    "    df_out.to_csv(name)"
   ]
  },
  {
   "cell_type": "code",
   "execution_count": 0,
   "metadata": {
    "colab": {},
    "colab_type": "code",
    "id": "-7oXRz4gA1ha"
   },
   "outputs": [],
   "source": [
    "import json\n",
    "with open('neg300k.txt') as json_file:  \n",
    "    rand_seqs = json.load(json_file)\n",
    "    \n",
    "with open('neg500k-130.txt') as json_file:  \n",
    "    rand_seqs2 = json.load(json_file)"
   ]
  },
  {
   "cell_type": "code",
   "execution_count": 0,
   "metadata": {
    "colab": {},
    "colab_type": "code",
    "id": "QeBzNRPmyn1y"
   },
   "outputs": [],
   "source": [
    "#FOR MANUAL CASE\n",
    "import json\n",
    "def get_neg_seqs(RBP):\n",
    "  extra = []\n",
    "  \n",
    "  with open('neg300k.txt') as json_file:  \n",
    "      rand_seqs = json.load(json_file)\n",
    "      \n",
    "  with open('neg500k-130.txt') as json_file:  \n",
    "      rand_seqs2 = json.load(json_file)\n",
    "      \n",
    "  neg_seq = []\n",
    "  df = df_remaining.loc[df_remaining['RBP'] == RBP]\n",
    "  for seq in df['sequence']:\n",
    "    n = str(len(seq))\n",
    "    gc = str(get_gc(seq))\n",
    "    \n",
    "    try:\n",
    "      s = get_rand_seq(gc,n,rand_seqs)\n",
    "    except:\n",
    "      try:\n",
    "        s = get_rand_seq(gc,n,rand_seqs2)\n",
    "      except:\n",
    "        extra.append((n,gc))\n",
    "\n",
    "    neg_seq.append(s)\n",
    "  \n",
    "  df_out = pd.DataFrame(neg_seq, columns=['sequence', 'chr', 'start', 'neg'])\n",
    "  name = 'NEGATIVE/' + RBP + '_neg.csv'\n",
    "  df_out.to_csv(name)\n",
    "  return extra"
   ]
  },
  {
   "cell_type": "code",
   "execution_count": 0,
   "metadata": {
    "colab": {},
    "colab_type": "code",
    "id": "_usgt3pIvDxe"
   },
   "outputs": [],
   "source": [
    "RBP_names = set(df_remaining['RBP'])\n",
    "manual_list = []\n",
    "for RBP in RBP_names:\n",
    "  extra = get_neg_seqs(RBP)\n",
    "  manual_list.append((RBP,extra))"
   ]
  },
  {
   "cell_type": "code",
   "execution_count": 0,
   "metadata": {
    "colab": {},
    "colab_type": "code",
    "id": "_lYb63fn6iYB"
   },
   "outputs": [],
   "source": [
    "with open('neg100k.txt') as json_file:\n",
    "  rand_seqs4 = json.load(json_file)"
   ]
  },
  {
   "cell_type": "code",
   "execution_count": 0,
   "metadata": {
    "colab": {},
    "colab_type": "code",
    "id": "ax_jSy308HVY"
   },
   "outputs": [],
   "source": [
    "####LAST 3\n",
    "def get_neg_seqs_by_gc_len(l):\n",
    "  extra = []\n",
    "  neg_seq = []\n",
    "  with open('neg350_100k.txt') as json_file:  \n",
    "    rand_seqs3 = json.load(json_file)\n",
    "\n",
    "  for tup in l:\n",
    "    n = tup[0]\n",
    "    gc = tup[1]\n",
    "    \n",
    "    try:\n",
    "      s = get_rand_seq3(gc,n,rand_seqs)\n",
    "      neg_seq.append(s)\n",
    "    except:\n",
    "      extra.append((n,gc))\n",
    "  \n",
    "  df_out = pd.DataFrame(neg_seq, columns=['sequence', 'chr', 'start', 'neg'])\n",
    "  name = 'NEGATIVE/' + RBP + '_neg_PART2.csv'\n",
    "  df_out.to_csv(name)\n",
    "  \n",
    "  return extra"
   ]
  },
  {
   "cell_type": "code",
   "execution_count": 0,
   "metadata": {
    "colab": {},
    "colab_type": "code",
    "id": "eRLsTIiZ9Pgy"
   },
   "outputs": [],
   "source": [
    "last_bit = []\n",
    "for tup in manual_list:\n",
    "  remain = get_neg_seqs_by_gc_len(tup[1])\n",
    "  if len(remain) > 0:\n",
    "    last_bit.append((tup[0],remain))"
   ]
  },
  {
   "cell_type": "code",
   "execution_count": 0,
   "metadata": {
    "colab": {},
    "colab_type": "code",
    "id": "ioFyfI21yxAh"
   },
   "outputs": [],
   "source": [
    "###MAIN FUNCTION -- RUN THIS!!!\n",
    "RBP_names = set(df_remaining['RBP'])\n",
    "manual_list = []\n",
    "for RBP in RBP_names:\n",
    "  try:\n",
    "    get_neg_seqs(RBP)\n",
    "  except:\n",
    "    manual_list.append(RBP)"
   ]
  },
  {
   "cell_type": "code",
   "execution_count": 0,
   "metadata": {
    "colab": {},
    "colab_type": "code",
    "id": "pII2XgCgHYnc"
   },
   "outputs": [],
   "source": []
  },
  {
   "cell_type": "code",
   "execution_count": 0,
   "metadata": {
    "colab": {},
    "colab_type": "code",
    "id": "aoMdypZbHYsy"
   },
   "outputs": [],
   "source": []
  },
  {
   "cell_type": "code",
   "execution_count": 0,
   "metadata": {
    "colab": {},
    "colab_type": "code",
    "id": "piCshkb_GpNK"
   },
   "outputs": [],
   "source": [
    "#LAST 3 RBPs\n",
    "manual_list = ['HepG2.CSTF2T', 'HepG2.FAM120A', 'HepG2.NKRF']\n",
    "df_remaining = data[data['RBP'].isin(manual_list)]\n",
    "del data"
   ]
  },
  {
   "cell_type": "code",
   "execution_count": 0,
   "metadata": {
    "colab": {},
    "colab_type": "code",
    "id": "J_arBN3ioogg"
   },
   "outputs": [],
   "source": [
    "def get_neg_pass1(RBP):\n",
    "  \n",
    "  with open('neg300k.txt') as json_file:  \n",
    "      rand_seqs = json.load(json_file)\n",
    "      \n",
    "  with open('neg500k-130.txt') as json_file:  \n",
    "      rand_seqs2 = json.load(json_file)\n",
    "      \n",
    "  neg_seq, extra = [], []\n",
    "  \n",
    "  df = df_remaining.loc[df_remaining['RBP'] == RBP]\n",
    "  for seq in df['sequence']:\n",
    "    n = str(len(seq))\n",
    "    gc = str(get_gc(seq))\n",
    "    \n",
    "    try:\n",
    "      s = get_rand_seq(gc,n,rand_seqs)\n",
    "      neg_seq.append(s)\n",
    "    except:\n",
    "      try:\n",
    "        s = get_rand_seq(gc,n,rand_seqs2)\n",
    "        neg_seq.append(s)\n",
    "      except:\n",
    "        extra.append((n,gc))\n",
    "  \n",
    "  df_out = pd.DataFrame(neg_seq, columns=['sequence', 'chr', 'start', 'neg'])\n",
    "  name = 'NEGATIVE/' + RBP + '_neg.csv'\n",
    "  df_out.to_csv(name)\n",
    "  return extra"
   ]
  },
  {
   "cell_type": "code",
   "execution_count": 0,
   "metadata": {
    "colab": {},
    "colab_type": "code",
    "id": "TtN8jA8Uoov3"
   },
   "outputs": [],
   "source": [
    "RBP_names = set(df_remaining['RBP'])\n",
    "extras_needed = {}\n",
    "for RBP in RBP_names:\n",
    "    extra = get_neg_pass1(RBP)\n",
    "    extras_needed[RBP] = extra"
   ]
  },
  {
   "cell_type": "code",
   "execution_count": 0,
   "metadata": {
    "colab": {},
    "colab_type": "code",
    "id": "hhRtUumHHT37"
   },
   "outputs": [],
   "source": [
    "def get_neg_pass2(RBP,l):\n",
    "  \n",
    "  with open('neg350_100k.txt') as json_file:  \n",
    "      rand_seqs3 = json.load(json_file)\n",
    "      \n",
    "  neg_seq, extra = [], []\n",
    "\n",
    "  for tup in l:\n",
    "    n = tup[0]\n",
    "    gc = tup[1]\n",
    "    \n",
    "    try:\n",
    "      s = get_rand_seq(gc,n,rand_seqs3)\n",
    "      neg_seq.append(s)\n",
    "    except:\n",
    "      extra.append((n,gc))\n",
    "  \n",
    "  df_out = pd.DataFrame(neg_seq, columns=['sequence', 'chr', 'start', 'neg'])\n",
    "  name = 'NEGATIVE/' + RBP + '_neg_PART2.csv'\n",
    "  df_out.to_csv(name)\n",
    "  return extra"
   ]
  },
  {
   "cell_type": "code",
   "execution_count": 0,
   "metadata": {
    "colab": {},
    "colab_type": "code",
    "id": "DIlRR8ViHT-a"
   },
   "outputs": [],
   "source": [
    "more_extras_needed = {}\n",
    "for key in extras_needed:\n",
    "    extra = get_neg_pass2(key,extras_needed[key])\n",
    "    if len(extra) > 0:\n",
    "      more_extras_needed[key] = extra"
   ]
  },
  {
   "cell_type": "code",
   "execution_count": 0,
   "metadata": {
    "colab": {},
    "colab_type": "code",
    "id": "or9vBAIyHUEs"
   },
   "outputs": [],
   "source": [
    "def get_neg_pass3(RBP,l):\n",
    "  \n",
    "  with open('neg100k.txt') as json_file:  \n",
    "      rand_seqs4 = json.load(json_file)\n",
    "      \n",
    "  neg_seq = []\n",
    "\n",
    "  for tup in l:\n",
    "    n = tup[0]\n",
    "    gc = tup[1]\n",
    "    s = get_rand_seq(gc,n,rand_seqs4)\n",
    "    neg_seq.append(s)\n",
    "  \n",
    "  df_out = pd.DataFrame(neg_seq, columns=['sequence', 'chr', 'start', 'neg'])\n",
    "  name = 'NEGATIVE/' + RBP + '_neg_PART3.csv'\n",
    "  df_out.to_csv(name)"
   ]
  },
  {
   "cell_type": "code",
   "execution_count": 0,
   "metadata": {
    "colab": {},
    "colab_type": "code",
    "id": "1Qe4Qh3BHUI-"
   },
   "outputs": [],
   "source": [
    "for key in more_extras_needed:\n",
    "    get_neg_pass3(key,more_extras_needed[key])"
   ]
  },
  {
   "cell_type": "code",
   "execution_count": 28,
   "metadata": {
    "colab": {
     "base_uri": "https://localhost:8080/",
     "height": 201
    },
    "colab_type": "code",
    "executionInfo": {
     "elapsed": 223,
     "status": "ok",
     "timestamp": 1555553451584,
     "user": {
      "displayName": "Emily Jin",
      "photoUrl": "",
      "userId": "00213674014052790913"
     },
     "user_tz": 240
    },
    "id": "QjSGncqwHULR",
    "outputId": "c78f29d7-4bea-4679-a49b-8a3d7e655fcc"
   },
   "outputs": [
    {
     "data": {
      "text/plain": [
       "{'HepG2.CSTF2T': [('102', '0.8'),\n",
       "  ('102', '0.8'),\n",
       "  ('102', '0.8'),\n",
       "  ('102', '0.8'),\n",
       "  ('102', '0.8'),\n",
       "  ('102', '0.8'),\n",
       "  ('102', '0.8'),\n",
       "  ('102', '0.8'),\n",
       "  ('102', '0.8'),\n",
       "  ('102', '0.8')]}"
      ]
     },
     "execution_count": 28,
     "metadata": {
      "tags": []
     },
     "output_type": "execute_result"
    }
   ],
   "source": [
    "more_extras_needed"
   ]
  },
  {
   "cell_type": "code",
   "execution_count": 0,
   "metadata": {
    "colab": {},
    "colab_type": "code",
    "id": "O0wat1YsHUP4"
   },
   "outputs": [],
   "source": [
    "with open('neg100k.txt') as json_file:  \n",
    "    rand_seqs4 = json.load(json_file)"
   ]
  },
  {
   "cell_type": "code",
   "execution_count": 0,
   "metadata": {
    "colab": {},
    "colab_type": "code",
    "id": "uk1dQCE4HUNo"
   },
   "outputs": [],
   "source": [
    "#now, combine them into one:\n",
    "fam_part1 = pd.read_csv('NEGATIVE/HepG2.FAM120A_neg_PART1.csv')\n",
    "fam_part2 = pd.read_csv('NEGATIVE/HepG2.FAM120A_neg_PART2.csv')\n",
    "df_fam = pd.concat([fam_part1, fam_part2])\n",
    "df_fam.to_csv('NEGATIVE/HepG2.FAM120A_neg.csv')\n",
    "\n",
    "\n",
    "nkrf1 = pd.read_csv('NEGATIVE/HepG2.NKRF_neg_PART1.csv')\n",
    "nkrf2 = pd.read_csv('NEGATIVE/HepG2.NKRF_neg_PART2.csv')\n",
    "df_nkrf = pd.concat([nkrf1, nkrf2])\n",
    "df_nkrf.to_csv('NEGATIVE/HepG2.NKRF_neg.csv')\n",
    "\n",
    "cst1 = pd.read_csv('NEGATIVE/HepG2.CSTF2T_neg_PART1.csv')\n",
    "cst2 = pd.read_csv('NEGATIVE/HepG2.CSTF2T_neg_PART2.csv')\n",
    "cst3 = pd.read_csv('NEGATIVE/HepG2.CSTF2T_neg_PART3.csv')\n",
    "df_cst = pd.concat([cst1,cst2,cst3])\n",
    "df_cst.to_csv('NEGATIVE/HepG2.CSTF2T_neg.csv')"
   ]
  },
  {
   "cell_type": "code",
   "execution_count": 0,
   "metadata": {
    "colab": {},
    "colab_type": "code",
    "id": "WcSB5sw0POjr"
   },
   "outputs": [],
   "source": []
  },
  {
   "cell_type": "markdown",
   "metadata": {
    "colab": {},
    "colab_type": "code",
    "id": "j0Zkq4ejPOma"
   },
   "source": [
    "### combine and format"
   ]
  },
  {
   "cell_type": "code",
   "execution_count": 0,
   "metadata": {
    "colab": {},
    "colab_type": "code",
    "id": "F7tDvtFNPOgj"
   },
   "outputs": [],
   "source": [
    "import os\n",
    "a_neg_list = [0] * 160\n",
    "\n",
    "count = 0\n",
    "for filename in os.listdir('NEGATIVE'):\n",
    "  full_path = 'NEGATIVE/' + filename\n",
    "  df = pd.read_csv(full_path)\n",
    "\n",
    "  df['RBP'] = filename[:-8]\n",
    "  df['chr'] = df.apply(lambda row: row.chr[3:], axis=1)\n",
    "  df['end'] = df.apply(lambda row: row.start + len(row.sequence) - 1, axis=1)\n",
    "  df.loc[df.neg == 0, 'strand'] = '+'\n",
    "  df.loc[df.neg == 1, 'strand'] = '-'\n",
    "\n",
    "  df_out = df[['RBP','chr','start','end','strand','sequence']]  \n",
    "  a_neg_list[count] = df_out\n",
    "  \n",
    "  count += 1"
   ]
  },
  {
   "cell_type": "code",
   "execution_count": 0,
   "metadata": {
    "colab": {},
    "colab_type": "code",
    "id": "KGmZpXjEHT7-"
   },
   "outputs": [],
   "source": [
    "df_neg_all = pd.concat(a_neg_list)"
   ]
  },
  {
   "cell_type": "code",
   "execution_count": null,
   "metadata": {},
   "outputs": [],
   "source": [
    "df_neg_all.to_csv('all_neg_seqs.csv')"
   ]
  }
 ],
 "metadata": {
  "accelerator": "TPU",
  "colab": {
   "collapsed_sections": [
    "v1SGesG-rWpl",
    "cp1ls0G5rmRb"
   ],
   "name": "RBP Binding Model.ipynb",
   "provenance": [
    {
     "file_id": "https://github.com/ejin700/genomicsProject/blob/master/Genomics_Project.ipynb",
     "timestamp": 1550622223455
    }
   ],
   "toc_visible": true,
   "version": "0.3.2"
  },
  "kernelspec": {
   "display_name": "Python 3",
   "language": "python",
   "name": "python3"
  },
  "language_info": {
   "codemirror_mode": {
    "name": "ipython",
    "version": 3
   },
   "file_extension": ".py",
   "mimetype": "text/x-python",
   "name": "python",
   "nbconvert_exporter": "python",
   "pygments_lexer": "ipython3",
   "version": "3.6.6"
  }
 },
 "nbformat": 4,
 "nbformat_minor": 1
}
