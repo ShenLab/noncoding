{
  "nbformat": 4,
  "nbformat_minor": 0,
  "metadata": {
    "colab": {
      "name": "filterPosSeqs.ipynb",
      "provenance": [],
      "collapsed_sections": []
    },
    "kernelspec": {
      "name": "python3",
      "display_name": "Python 3"
    },
    "accelerator": "GPU"
  },
  "cells": [
    {
      "cell_type": "code",
      "metadata": {
        "id": "poFAC1yHH084",
        "colab_type": "code",
        "colab": {}
      },
      "source": [
        "import warnings\n",
        "warnings.filterwarnings('ignore')\n",
        "\n",
        "import pandas as pd"
      ],
      "execution_count": null,
      "outputs": []
    },
    {
      "cell_type": "code",
      "metadata": {
        "id": "5FiOjD7w_u5i",
        "colab_type": "code",
        "colab": {}
      },
      "source": [
        "unfiltered_filename = 'pos_rbp_seqs_150_unfiltered.csv'\n",
        "filtered_filename = 'pos_rbp_seqs_150.csv'\n",
        "\n",
        "pos = pd.read_csv(unfiltered_filename, index_col=0)\n",
        "RBP_list = list(set(pos['RBP']))\n",
        "chrs = list(set(pos['chromosome']))"
      ],
      "execution_count": null,
      "outputs": []
    },
    {
      "cell_type": "code",
      "metadata": {
        "id": "h0TvNMwVBWhY",
        "colab_type": "code",
        "colab": {}
      },
      "source": [
        "out_list = []\n",
        "count = 0\n",
        "\n",
        "for RBP in RBP_list:\n",
        "  df = pos[pos['RBP'] == RBP]\n",
        "  df_list = []\n",
        "\n",
        "  for c in chrs:\n",
        "    df_temp = df[df['chromosome'] == c]\n",
        "    df_temp.sort_values(by=['start'], inplace=True)\n",
        "\n",
        "    keep_ix = set()\n",
        "    for i in range(len(df_temp)-1):\n",
        "      if df_temp['end'].iloc[i] + 500 > df_temp['start'].iloc[i+1]:\n",
        "        keep_ix.add(i)\n",
        "        keep_ix.add(i+1)\n",
        "\n",
        "    df_keep = df_temp.iloc[list(keep_ix)]\n",
        "    df_list.append(df_keep)\n",
        "\n",
        "  df_good = pd.concat(df_list)\n",
        "  out_list.append(df_good)\n",
        "  \n",
        "  count += 1\n",
        "  if count%10 == 0:\n",
        "    print(count)"
      ],
      "execution_count": null,
      "outputs": []
    },
    {
      "cell_type": "code",
      "metadata": {
        "id": "blkbAkOnH9q8",
        "colab_type": "code",
        "colab": {}
      },
      "source": [
        "df_all = pd.concat(out_list)\n",
        "df_all.reset_index(inplace=True, drop=True)\n",
        "df_all.to_csv(filtered_filename)"
      ],
      "execution_count": null,
      "outputs": []
    },
    {
      "cell_type": "code",
      "metadata": {
        "id": "uB83YhcKLKC1",
        "colab_type": "code",
        "colab": {}
      },
      "source": [
        ""
      ],
      "execution_count": null,
      "outputs": []
    }
  ]
}